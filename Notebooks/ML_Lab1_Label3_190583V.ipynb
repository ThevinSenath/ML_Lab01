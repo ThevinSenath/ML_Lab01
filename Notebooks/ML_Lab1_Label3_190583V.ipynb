{
  "nbformat": 4,
  "nbformat_minor": 0,
  "metadata": {
    "colab": {
      "provenance": []
    },
    "kernelspec": {
      "name": "python3",
      "display_name": "Python 3"
    },
    "language_info": {
      "name": "python"
    }
  },
  "cells": [
    {
      "cell_type": "code",
      "execution_count": null,
      "metadata": {
        "colab": {
          "base_uri": "https://localhost:8080/"
        },
        "id": "ZdSrJ3WZqr2V",
        "outputId": "545e770a-3d17-4f9a-9ad5-ff17c4582b6d"
      },
      "outputs": [
        {
          "output_type": "stream",
          "name": "stdout",
          "text": [
            "Drive already mounted at /content/drive; to attempt to forcibly remount, call drive.mount(\"/content/drive\", force_remount=True).\n"
          ]
        }
      ],
      "source": [
        "from google.colab import drive\n",
        "drive.mount('/content/drive')"
      ]
    },
    {
      "cell_type": "markdown",
      "source": [
        "Import required Libraries and Models."
      ],
      "metadata": {
        "id": "6hwOFtLUtvP1"
      }
    },
    {
      "cell_type": "code",
      "source": [
        "#import libraries\n",
        "import numpy as np\n",
        "import pandas as pd\n",
        "import matplotlib.pyplot as plt\n",
        "import seaborn as sns\n",
        "\n",
        "from sklearn.preprocessing import StandardScaler\n",
        "from sklearn.decomposition import PCA\n",
        "from sklearn.model_selection import train_test_split\n",
        "\n",
        "from sklearn.neighbors import KNeighborsClassifier\n",
        "from sklearn.ensemble import RandomForestClassifier\n",
        "from sklearn.svm import SVC\n",
        "\n",
        "from sklearn.metrics import accuracy_score, precision_score, recall_score"
      ],
      "metadata": {
        "id": "53eUsPW5tuNu"
      },
      "execution_count": null,
      "outputs": []
    },
    {
      "cell_type": "markdown",
      "source": [
        "Define constants."
      ],
      "metadata": {
        "id": "mqtCcPQ4zp-F"
      }
    },
    {
      "cell_type": "code",
      "source": [
        "#define constants\n",
        "LABELS = ['label_1', 'label_2', 'label_3', 'label_4']\n",
        "FEATURES = ['feature_' + str(i) for i in range(1, 257)]\n",
        "target_label = 'label_3'"
      ],
      "metadata": {
        "id": "H4v6o8BIzt5I"
      },
      "execution_count": null,
      "outputs": []
    },
    {
      "cell_type": "markdown",
      "source": [
        "Import train, valid and test datasets."
      ],
      "metadata": {
        "id": "Ovnl7phexVsU"
      }
    },
    {
      "cell_type": "code",
      "source": [
        "#file paths for the datasets\n",
        "train_path = '/content/drive/MyDrive/Colab Notebooks/Machine Learning/Lab1/train.csv'\n",
        "valid_path = '/content/drive/MyDrive/Colab Notebooks/Machine Learning/Lab1/valid.csv'\n",
        "test_path = '/content/drive/MyDrive/Colab Notebooks/Machine Learning/Lab1/test.csv'\n",
        "\n",
        "#load the train dataset\n",
        "train_data_set_original = pd.read_csv(train_path)\n",
        "\n",
        "#load the valid dataset\n",
        "valid_data_set_original = pd.read_csv(valid_path)\n",
        "\n",
        "#load the test dataset\n",
        "test_data_set_original = pd.read_csv(test_path)"
      ],
      "metadata": {
        "id": "HzBUlIa8ub2E"
      },
      "execution_count": null,
      "outputs": []
    },
    {
      "cell_type": "markdown",
      "source": [
        "Get the copies of train, valid and test datasets."
      ],
      "metadata": {
        "id": "TtoAWRmwB6Zn"
      }
    },
    {
      "cell_type": "code",
      "source": [
        "#get a copy of the train dataset\n",
        "train_data_set = train_data_set_original.copy()\n",
        "\n",
        "#get a copy of the valid dataset\n",
        "valid_data_set = valid_data_set_original.copy()\n",
        "\n",
        "#get a copy of the test dataset\n",
        "test_data_set = test_data_set_original.copy()"
      ],
      "metadata": {
        "id": "tY3STqUpBpK7"
      },
      "execution_count": null,
      "outputs": []
    },
    {
      "cell_type": "markdown",
      "source": [
        "Visualize train, valid and test datasets.\n",
        "\n"
      ],
      "metadata": {
        "id": "OeILoadcxh56"
      }
    },
    {
      "cell_type": "code",
      "source": [
        "train_data_set.head()"
      ],
      "metadata": {
        "colab": {
          "base_uri": "https://localhost:8080/",
          "height": 255
        },
        "id": "dHa9uqYWxnsT",
        "outputId": "0e8263d7-8af0-458e-9329-e750b301abe4"
      },
      "execution_count": null,
      "outputs": [
        {
          "output_type": "execute_result",
          "data": {
            "text/plain": [
              "   feature_1  feature_2  feature_3  feature_4  feature_5  feature_6  \\\n",
              "0  -1.928826  -0.291540   1.105909   2.070652   0.657838  -0.670940   \n",
              "1  -1.709277  -1.008998   0.956611   4.313823  -0.669455   1.928765   \n",
              "2  -1.906183  -0.357562  -0.682627   4.651838  -0.884940   1.159512   \n",
              "3   0.697872  -2.218567  -0.572214   1.192062   0.329554   0.741364   \n",
              "4  -1.976895  -0.496308   0.368102   3.739787  -0.132058   1.234980   \n",
              "\n",
              "   feature_7  feature_8  feature_9  feature_10  ...  feature_251  feature_252  \\\n",
              "0  -0.968238   0.049916   1.111149   -1.834592  ...    -0.691538    -1.152522   \n",
              "1   0.162550   0.152173   2.356505   -2.898549  ...    -0.668235    -0.532695   \n",
              "2   1.354481  -1.432248   2.160144   -3.175735  ...    -0.026728     0.440408   \n",
              "3   0.962354   0.993512   2.896854   -1.600380  ...     0.709032     0.812106   \n",
              "4  -0.501003   0.881554   1.630941   -3.853953  ...    -0.599700    -1.024829   \n",
              "\n",
              "   feature_253  feature_254  feature_255  feature_256  label_1  label_2  \\\n",
              "0     0.441157    -1.494434    -0.344974    -0.395641       45      NaN   \n",
              "1     0.151163    -1.876885     1.651534    -2.706490       45      NaN   \n",
              "2     2.745906    -0.680754    -0.643588    -2.587203       45      NaN   \n",
              "3     1.055266    -0.915258    -0.924856    -1.318964       45      NaN   \n",
              "4     1.869753    -2.498570     3.268253    -1.356606       45      NaN   \n",
              "\n",
              "   label_3  label_4  \n",
              "0        1        6  \n",
              "1        1        6  \n",
              "2        1        6  \n",
              "3        1        6  \n",
              "4        1        6  \n",
              "\n",
              "[5 rows x 260 columns]"
            ],
            "text/html": [
              "\n",
              "  <div id=\"df-fe6cd1f6-4007-4ed6-94c4-772b5081a0e5\" class=\"colab-df-container\">\n",
              "    <div>\n",
              "<style scoped>\n",
              "    .dataframe tbody tr th:only-of-type {\n",
              "        vertical-align: middle;\n",
              "    }\n",
              "\n",
              "    .dataframe tbody tr th {\n",
              "        vertical-align: top;\n",
              "    }\n",
              "\n",
              "    .dataframe thead th {\n",
              "        text-align: right;\n",
              "    }\n",
              "</style>\n",
              "<table border=\"1\" class=\"dataframe\">\n",
              "  <thead>\n",
              "    <tr style=\"text-align: right;\">\n",
              "      <th></th>\n",
              "      <th>feature_1</th>\n",
              "      <th>feature_2</th>\n",
              "      <th>feature_3</th>\n",
              "      <th>feature_4</th>\n",
              "      <th>feature_5</th>\n",
              "      <th>feature_6</th>\n",
              "      <th>feature_7</th>\n",
              "      <th>feature_8</th>\n",
              "      <th>feature_9</th>\n",
              "      <th>feature_10</th>\n",
              "      <th>...</th>\n",
              "      <th>feature_251</th>\n",
              "      <th>feature_252</th>\n",
              "      <th>feature_253</th>\n",
              "      <th>feature_254</th>\n",
              "      <th>feature_255</th>\n",
              "      <th>feature_256</th>\n",
              "      <th>label_1</th>\n",
              "      <th>label_2</th>\n",
              "      <th>label_3</th>\n",
              "      <th>label_4</th>\n",
              "    </tr>\n",
              "  </thead>\n",
              "  <tbody>\n",
              "    <tr>\n",
              "      <th>0</th>\n",
              "      <td>-1.928826</td>\n",
              "      <td>-0.291540</td>\n",
              "      <td>1.105909</td>\n",
              "      <td>2.070652</td>\n",
              "      <td>0.657838</td>\n",
              "      <td>-0.670940</td>\n",
              "      <td>-0.968238</td>\n",
              "      <td>0.049916</td>\n",
              "      <td>1.111149</td>\n",
              "      <td>-1.834592</td>\n",
              "      <td>...</td>\n",
              "      <td>-0.691538</td>\n",
              "      <td>-1.152522</td>\n",
              "      <td>0.441157</td>\n",
              "      <td>-1.494434</td>\n",
              "      <td>-0.344974</td>\n",
              "      <td>-0.395641</td>\n",
              "      <td>45</td>\n",
              "      <td>NaN</td>\n",
              "      <td>1</td>\n",
              "      <td>6</td>\n",
              "    </tr>\n",
              "    <tr>\n",
              "      <th>1</th>\n",
              "      <td>-1.709277</td>\n",
              "      <td>-1.008998</td>\n",
              "      <td>0.956611</td>\n",
              "      <td>4.313823</td>\n",
              "      <td>-0.669455</td>\n",
              "      <td>1.928765</td>\n",
              "      <td>0.162550</td>\n",
              "      <td>0.152173</td>\n",
              "      <td>2.356505</td>\n",
              "      <td>-2.898549</td>\n",
              "      <td>...</td>\n",
              "      <td>-0.668235</td>\n",
              "      <td>-0.532695</td>\n",
              "      <td>0.151163</td>\n",
              "      <td>-1.876885</td>\n",
              "      <td>1.651534</td>\n",
              "      <td>-2.706490</td>\n",
              "      <td>45</td>\n",
              "      <td>NaN</td>\n",
              "      <td>1</td>\n",
              "      <td>6</td>\n",
              "    </tr>\n",
              "    <tr>\n",
              "      <th>2</th>\n",
              "      <td>-1.906183</td>\n",
              "      <td>-0.357562</td>\n",
              "      <td>-0.682627</td>\n",
              "      <td>4.651838</td>\n",
              "      <td>-0.884940</td>\n",
              "      <td>1.159512</td>\n",
              "      <td>1.354481</td>\n",
              "      <td>-1.432248</td>\n",
              "      <td>2.160144</td>\n",
              "      <td>-3.175735</td>\n",
              "      <td>...</td>\n",
              "      <td>-0.026728</td>\n",
              "      <td>0.440408</td>\n",
              "      <td>2.745906</td>\n",
              "      <td>-0.680754</td>\n",
              "      <td>-0.643588</td>\n",
              "      <td>-2.587203</td>\n",
              "      <td>45</td>\n",
              "      <td>NaN</td>\n",
              "      <td>1</td>\n",
              "      <td>6</td>\n",
              "    </tr>\n",
              "    <tr>\n",
              "      <th>3</th>\n",
              "      <td>0.697872</td>\n",
              "      <td>-2.218567</td>\n",
              "      <td>-0.572214</td>\n",
              "      <td>1.192062</td>\n",
              "      <td>0.329554</td>\n",
              "      <td>0.741364</td>\n",
              "      <td>0.962354</td>\n",
              "      <td>0.993512</td>\n",
              "      <td>2.896854</td>\n",
              "      <td>-1.600380</td>\n",
              "      <td>...</td>\n",
              "      <td>0.709032</td>\n",
              "      <td>0.812106</td>\n",
              "      <td>1.055266</td>\n",
              "      <td>-0.915258</td>\n",
              "      <td>-0.924856</td>\n",
              "      <td>-1.318964</td>\n",
              "      <td>45</td>\n",
              "      <td>NaN</td>\n",
              "      <td>1</td>\n",
              "      <td>6</td>\n",
              "    </tr>\n",
              "    <tr>\n",
              "      <th>4</th>\n",
              "      <td>-1.976895</td>\n",
              "      <td>-0.496308</td>\n",
              "      <td>0.368102</td>\n",
              "      <td>3.739787</td>\n",
              "      <td>-0.132058</td>\n",
              "      <td>1.234980</td>\n",
              "      <td>-0.501003</td>\n",
              "      <td>0.881554</td>\n",
              "      <td>1.630941</td>\n",
              "      <td>-3.853953</td>\n",
              "      <td>...</td>\n",
              "      <td>-0.599700</td>\n",
              "      <td>-1.024829</td>\n",
              "      <td>1.869753</td>\n",
              "      <td>-2.498570</td>\n",
              "      <td>3.268253</td>\n",
              "      <td>-1.356606</td>\n",
              "      <td>45</td>\n",
              "      <td>NaN</td>\n",
              "      <td>1</td>\n",
              "      <td>6</td>\n",
              "    </tr>\n",
              "  </tbody>\n",
              "</table>\n",
              "<p>5 rows × 260 columns</p>\n",
              "</div>\n",
              "    <div class=\"colab-df-buttons\">\n",
              "\n",
              "  <div class=\"colab-df-container\">\n",
              "    <button class=\"colab-df-convert\" onclick=\"convertToInteractive('df-fe6cd1f6-4007-4ed6-94c4-772b5081a0e5')\"\n",
              "            title=\"Convert this dataframe to an interactive table.\"\n",
              "            style=\"display:none;\">\n",
              "\n",
              "  <svg xmlns=\"http://www.w3.org/2000/svg\" height=\"24px\" viewBox=\"0 -960 960 960\">\n",
              "    <path d=\"M120-120v-720h720v720H120Zm60-500h600v-160H180v160Zm220 220h160v-160H400v160Zm0 220h160v-160H400v160ZM180-400h160v-160H180v160Zm440 0h160v-160H620v160ZM180-180h160v-160H180v160Zm440 0h160v-160H620v160Z\"/>\n",
              "  </svg>\n",
              "    </button>\n",
              "\n",
              "  <style>\n",
              "    .colab-df-container {\n",
              "      display:flex;\n",
              "      gap: 12px;\n",
              "    }\n",
              "\n",
              "    .colab-df-convert {\n",
              "      background-color: #E8F0FE;\n",
              "      border: none;\n",
              "      border-radius: 50%;\n",
              "      cursor: pointer;\n",
              "      display: none;\n",
              "      fill: #1967D2;\n",
              "      height: 32px;\n",
              "      padding: 0 0 0 0;\n",
              "      width: 32px;\n",
              "    }\n",
              "\n",
              "    .colab-df-convert:hover {\n",
              "      background-color: #E2EBFA;\n",
              "      box-shadow: 0px 1px 2px rgba(60, 64, 67, 0.3), 0px 1px 3px 1px rgba(60, 64, 67, 0.15);\n",
              "      fill: #174EA6;\n",
              "    }\n",
              "\n",
              "    .colab-df-buttons div {\n",
              "      margin-bottom: 4px;\n",
              "    }\n",
              "\n",
              "    [theme=dark] .colab-df-convert {\n",
              "      background-color: #3B4455;\n",
              "      fill: #D2E3FC;\n",
              "    }\n",
              "\n",
              "    [theme=dark] .colab-df-convert:hover {\n",
              "      background-color: #434B5C;\n",
              "      box-shadow: 0px 1px 3px 1px rgba(0, 0, 0, 0.15);\n",
              "      filter: drop-shadow(0px 1px 2px rgba(0, 0, 0, 0.3));\n",
              "      fill: #FFFFFF;\n",
              "    }\n",
              "  </style>\n",
              "\n",
              "    <script>\n",
              "      const buttonEl =\n",
              "        document.querySelector('#df-fe6cd1f6-4007-4ed6-94c4-772b5081a0e5 button.colab-df-convert');\n",
              "      buttonEl.style.display =\n",
              "        google.colab.kernel.accessAllowed ? 'block' : 'none';\n",
              "\n",
              "      async function convertToInteractive(key) {\n",
              "        const element = document.querySelector('#df-fe6cd1f6-4007-4ed6-94c4-772b5081a0e5');\n",
              "        const dataTable =\n",
              "          await google.colab.kernel.invokeFunction('convertToInteractive',\n",
              "                                                    [key], {});\n",
              "        if (!dataTable) return;\n",
              "\n",
              "        const docLinkHtml = 'Like what you see? Visit the ' +\n",
              "          '<a target=\"_blank\" href=https://colab.research.google.com/notebooks/data_table.ipynb>data table notebook</a>'\n",
              "          + ' to learn more about interactive tables.';\n",
              "        element.innerHTML = '';\n",
              "        dataTable['output_type'] = 'display_data';\n",
              "        await google.colab.output.renderOutput(dataTable, element);\n",
              "        const docLink = document.createElement('div');\n",
              "        docLink.innerHTML = docLinkHtml;\n",
              "        element.appendChild(docLink);\n",
              "      }\n",
              "    </script>\n",
              "  </div>\n",
              "\n",
              "\n",
              "<div id=\"df-3c3fc797-39de-4f11-b198-32e39343f543\">\n",
              "  <button class=\"colab-df-quickchart\" onclick=\"quickchart('df-3c3fc797-39de-4f11-b198-32e39343f543')\"\n",
              "            title=\"Suggest charts.\"\n",
              "            style=\"display:none;\">\n",
              "\n",
              "<svg xmlns=\"http://www.w3.org/2000/svg\" height=\"24px\"viewBox=\"0 0 24 24\"\n",
              "     width=\"24px\">\n",
              "    <g>\n",
              "        <path d=\"M19 3H5c-1.1 0-2 .9-2 2v14c0 1.1.9 2 2 2h14c1.1 0 2-.9 2-2V5c0-1.1-.9-2-2-2zM9 17H7v-7h2v7zm4 0h-2V7h2v10zm4 0h-2v-4h2v4z\"/>\n",
              "    </g>\n",
              "</svg>\n",
              "  </button>\n",
              "\n",
              "<style>\n",
              "  .colab-df-quickchart {\n",
              "    background-color: #E8F0FE;\n",
              "    border: none;\n",
              "    border-radius: 50%;\n",
              "    cursor: pointer;\n",
              "    display: none;\n",
              "    fill: #1967D2;\n",
              "    height: 32px;\n",
              "    padding: 0 0 0 0;\n",
              "    width: 32px;\n",
              "  }\n",
              "\n",
              "  .colab-df-quickchart:hover {\n",
              "    background-color: #E2EBFA;\n",
              "    box-shadow: 0px 1px 2px rgba(60, 64, 67, 0.3), 0px 1px 3px 1px rgba(60, 64, 67, 0.15);\n",
              "    fill: #174EA6;\n",
              "  }\n",
              "\n",
              "  [theme=dark] .colab-df-quickchart {\n",
              "    background-color: #3B4455;\n",
              "    fill: #D2E3FC;\n",
              "  }\n",
              "\n",
              "  [theme=dark] .colab-df-quickchart:hover {\n",
              "    background-color: #434B5C;\n",
              "    box-shadow: 0px 1px 3px 1px rgba(0, 0, 0, 0.15);\n",
              "    filter: drop-shadow(0px 1px 2px rgba(0, 0, 0, 0.3));\n",
              "    fill: #FFFFFF;\n",
              "  }\n",
              "</style>\n",
              "\n",
              "  <script>\n",
              "    async function quickchart(key) {\n",
              "      const charts = await google.colab.kernel.invokeFunction(\n",
              "          'suggestCharts', [key], {});\n",
              "    }\n",
              "    (() => {\n",
              "      let quickchartButtonEl =\n",
              "        document.querySelector('#df-3c3fc797-39de-4f11-b198-32e39343f543 button');\n",
              "      quickchartButtonEl.style.display =\n",
              "        google.colab.kernel.accessAllowed ? 'block' : 'none';\n",
              "    })();\n",
              "  </script>\n",
              "</div>\n",
              "    </div>\n",
              "  </div>\n"
            ]
          },
          "metadata": {},
          "execution_count": 68
        }
      ]
    },
    {
      "cell_type": "code",
      "source": [
        "valid_data_set.head()"
      ],
      "metadata": {
        "id": "9WilHU_vyPpX",
        "colab": {
          "base_uri": "https://localhost:8080/",
          "height": 255
        },
        "outputId": "c15855e9-272c-4de0-f99c-cedf972093e5"
      },
      "execution_count": null,
      "outputs": [
        {
          "output_type": "execute_result",
          "data": {
            "text/plain": [
              "   feature_1  feature_2  feature_3  feature_4  feature_5  feature_6  \\\n",
              "0  -1.153148  -1.038098   1.419872   2.734152   1.154604  -1.086937   \n",
              "1  -1.377524  -1.018393   1.102352   2.849025   0.440302  -1.149039   \n",
              "2   0.889574  -2.743300  -0.320194   3.047766  -0.923335   1.741686   \n",
              "3  -1.527213  -1.133121   0.385927   3.129767   0.229020   1.373105   \n",
              "4   0.948176  -0.750248   0.008329   1.675338   1.941155  -0.783623   \n",
              "\n",
              "   feature_7  feature_8  feature_9  feature_10  ...  feature_251  feature_252  \\\n",
              "0  -0.516225  -1.370325   2.865359   -1.879877  ...    -0.719046    -1.248530   \n",
              "1  -0.789796  -2.258196   1.264268   -2.123730  ...    -1.383339    -0.787736   \n",
              "2  -0.615148   0.756482   2.074775   -1.433126  ...     1.178322     0.035333   \n",
              "3   0.919284  -0.755558   1.086973   -2.440614  ...    -0.664176     0.805059   \n",
              "4  -0.485584  -0.261882   2.875204   -1.473030  ...    -0.665200    -0.428060   \n",
              "\n",
              "   feature_253  feature_254  feature_255  feature_256  label_1  label_2  \\\n",
              "0     0.144460    -3.240056     0.052614     0.083108       45      NaN   \n",
              "1     1.044895    -2.289637     0.199752    -0.712154       45      NaN   \n",
              "2     0.857712    -1.928684     0.639870    -0.268576       45      NaN   \n",
              "3     0.975368    -2.700269     1.523236    -1.259052       45      NaN   \n",
              "4    -0.393100    -1.854657     2.207063    -0.342725       45      NaN   \n",
              "\n",
              "   label_3  label_4  \n",
              "0        1        6  \n",
              "1        1        6  \n",
              "2        1        6  \n",
              "3        1        6  \n",
              "4        1        6  \n",
              "\n",
              "[5 rows x 260 columns]"
            ],
            "text/html": [
              "\n",
              "  <div id=\"df-70dcec33-c953-495e-a9b5-5018e8eed381\" class=\"colab-df-container\">\n",
              "    <div>\n",
              "<style scoped>\n",
              "    .dataframe tbody tr th:only-of-type {\n",
              "        vertical-align: middle;\n",
              "    }\n",
              "\n",
              "    .dataframe tbody tr th {\n",
              "        vertical-align: top;\n",
              "    }\n",
              "\n",
              "    .dataframe thead th {\n",
              "        text-align: right;\n",
              "    }\n",
              "</style>\n",
              "<table border=\"1\" class=\"dataframe\">\n",
              "  <thead>\n",
              "    <tr style=\"text-align: right;\">\n",
              "      <th></th>\n",
              "      <th>feature_1</th>\n",
              "      <th>feature_2</th>\n",
              "      <th>feature_3</th>\n",
              "      <th>feature_4</th>\n",
              "      <th>feature_5</th>\n",
              "      <th>feature_6</th>\n",
              "      <th>feature_7</th>\n",
              "      <th>feature_8</th>\n",
              "      <th>feature_9</th>\n",
              "      <th>feature_10</th>\n",
              "      <th>...</th>\n",
              "      <th>feature_251</th>\n",
              "      <th>feature_252</th>\n",
              "      <th>feature_253</th>\n",
              "      <th>feature_254</th>\n",
              "      <th>feature_255</th>\n",
              "      <th>feature_256</th>\n",
              "      <th>label_1</th>\n",
              "      <th>label_2</th>\n",
              "      <th>label_3</th>\n",
              "      <th>label_4</th>\n",
              "    </tr>\n",
              "  </thead>\n",
              "  <tbody>\n",
              "    <tr>\n",
              "      <th>0</th>\n",
              "      <td>-1.153148</td>\n",
              "      <td>-1.038098</td>\n",
              "      <td>1.419872</td>\n",
              "      <td>2.734152</td>\n",
              "      <td>1.154604</td>\n",
              "      <td>-1.086937</td>\n",
              "      <td>-0.516225</td>\n",
              "      <td>-1.370325</td>\n",
              "      <td>2.865359</td>\n",
              "      <td>-1.879877</td>\n",
              "      <td>...</td>\n",
              "      <td>-0.719046</td>\n",
              "      <td>-1.248530</td>\n",
              "      <td>0.144460</td>\n",
              "      <td>-3.240056</td>\n",
              "      <td>0.052614</td>\n",
              "      <td>0.083108</td>\n",
              "      <td>45</td>\n",
              "      <td>NaN</td>\n",
              "      <td>1</td>\n",
              "      <td>6</td>\n",
              "    </tr>\n",
              "    <tr>\n",
              "      <th>1</th>\n",
              "      <td>-1.377524</td>\n",
              "      <td>-1.018393</td>\n",
              "      <td>1.102352</td>\n",
              "      <td>2.849025</td>\n",
              "      <td>0.440302</td>\n",
              "      <td>-1.149039</td>\n",
              "      <td>-0.789796</td>\n",
              "      <td>-2.258196</td>\n",
              "      <td>1.264268</td>\n",
              "      <td>-2.123730</td>\n",
              "      <td>...</td>\n",
              "      <td>-1.383339</td>\n",
              "      <td>-0.787736</td>\n",
              "      <td>1.044895</td>\n",
              "      <td>-2.289637</td>\n",
              "      <td>0.199752</td>\n",
              "      <td>-0.712154</td>\n",
              "      <td>45</td>\n",
              "      <td>NaN</td>\n",
              "      <td>1</td>\n",
              "      <td>6</td>\n",
              "    </tr>\n",
              "    <tr>\n",
              "      <th>2</th>\n",
              "      <td>0.889574</td>\n",
              "      <td>-2.743300</td>\n",
              "      <td>-0.320194</td>\n",
              "      <td>3.047766</td>\n",
              "      <td>-0.923335</td>\n",
              "      <td>1.741686</td>\n",
              "      <td>-0.615148</td>\n",
              "      <td>0.756482</td>\n",
              "      <td>2.074775</td>\n",
              "      <td>-1.433126</td>\n",
              "      <td>...</td>\n",
              "      <td>1.178322</td>\n",
              "      <td>0.035333</td>\n",
              "      <td>0.857712</td>\n",
              "      <td>-1.928684</td>\n",
              "      <td>0.639870</td>\n",
              "      <td>-0.268576</td>\n",
              "      <td>45</td>\n",
              "      <td>NaN</td>\n",
              "      <td>1</td>\n",
              "      <td>6</td>\n",
              "    </tr>\n",
              "    <tr>\n",
              "      <th>3</th>\n",
              "      <td>-1.527213</td>\n",
              "      <td>-1.133121</td>\n",
              "      <td>0.385927</td>\n",
              "      <td>3.129767</td>\n",
              "      <td>0.229020</td>\n",
              "      <td>1.373105</td>\n",
              "      <td>0.919284</td>\n",
              "      <td>-0.755558</td>\n",
              "      <td>1.086973</td>\n",
              "      <td>-2.440614</td>\n",
              "      <td>...</td>\n",
              "      <td>-0.664176</td>\n",
              "      <td>0.805059</td>\n",
              "      <td>0.975368</td>\n",
              "      <td>-2.700269</td>\n",
              "      <td>1.523236</td>\n",
              "      <td>-1.259052</td>\n",
              "      <td>45</td>\n",
              "      <td>NaN</td>\n",
              "      <td>1</td>\n",
              "      <td>6</td>\n",
              "    </tr>\n",
              "    <tr>\n",
              "      <th>4</th>\n",
              "      <td>0.948176</td>\n",
              "      <td>-0.750248</td>\n",
              "      <td>0.008329</td>\n",
              "      <td>1.675338</td>\n",
              "      <td>1.941155</td>\n",
              "      <td>-0.783623</td>\n",
              "      <td>-0.485584</td>\n",
              "      <td>-0.261882</td>\n",
              "      <td>2.875204</td>\n",
              "      <td>-1.473030</td>\n",
              "      <td>...</td>\n",
              "      <td>-0.665200</td>\n",
              "      <td>-0.428060</td>\n",
              "      <td>-0.393100</td>\n",
              "      <td>-1.854657</td>\n",
              "      <td>2.207063</td>\n",
              "      <td>-0.342725</td>\n",
              "      <td>45</td>\n",
              "      <td>NaN</td>\n",
              "      <td>1</td>\n",
              "      <td>6</td>\n",
              "    </tr>\n",
              "  </tbody>\n",
              "</table>\n",
              "<p>5 rows × 260 columns</p>\n",
              "</div>\n",
              "    <div class=\"colab-df-buttons\">\n",
              "\n",
              "  <div class=\"colab-df-container\">\n",
              "    <button class=\"colab-df-convert\" onclick=\"convertToInteractive('df-70dcec33-c953-495e-a9b5-5018e8eed381')\"\n",
              "            title=\"Convert this dataframe to an interactive table.\"\n",
              "            style=\"display:none;\">\n",
              "\n",
              "  <svg xmlns=\"http://www.w3.org/2000/svg\" height=\"24px\" viewBox=\"0 -960 960 960\">\n",
              "    <path d=\"M120-120v-720h720v720H120Zm60-500h600v-160H180v160Zm220 220h160v-160H400v160Zm0 220h160v-160H400v160ZM180-400h160v-160H180v160Zm440 0h160v-160H620v160ZM180-180h160v-160H180v160Zm440 0h160v-160H620v160Z\"/>\n",
              "  </svg>\n",
              "    </button>\n",
              "\n",
              "  <style>\n",
              "    .colab-df-container {\n",
              "      display:flex;\n",
              "      gap: 12px;\n",
              "    }\n",
              "\n",
              "    .colab-df-convert {\n",
              "      background-color: #E8F0FE;\n",
              "      border: none;\n",
              "      border-radius: 50%;\n",
              "      cursor: pointer;\n",
              "      display: none;\n",
              "      fill: #1967D2;\n",
              "      height: 32px;\n",
              "      padding: 0 0 0 0;\n",
              "      width: 32px;\n",
              "    }\n",
              "\n",
              "    .colab-df-convert:hover {\n",
              "      background-color: #E2EBFA;\n",
              "      box-shadow: 0px 1px 2px rgba(60, 64, 67, 0.3), 0px 1px 3px 1px rgba(60, 64, 67, 0.15);\n",
              "      fill: #174EA6;\n",
              "    }\n",
              "\n",
              "    .colab-df-buttons div {\n",
              "      margin-bottom: 4px;\n",
              "    }\n",
              "\n",
              "    [theme=dark] .colab-df-convert {\n",
              "      background-color: #3B4455;\n",
              "      fill: #D2E3FC;\n",
              "    }\n",
              "\n",
              "    [theme=dark] .colab-df-convert:hover {\n",
              "      background-color: #434B5C;\n",
              "      box-shadow: 0px 1px 3px 1px rgba(0, 0, 0, 0.15);\n",
              "      filter: drop-shadow(0px 1px 2px rgba(0, 0, 0, 0.3));\n",
              "      fill: #FFFFFF;\n",
              "    }\n",
              "  </style>\n",
              "\n",
              "    <script>\n",
              "      const buttonEl =\n",
              "        document.querySelector('#df-70dcec33-c953-495e-a9b5-5018e8eed381 button.colab-df-convert');\n",
              "      buttonEl.style.display =\n",
              "        google.colab.kernel.accessAllowed ? 'block' : 'none';\n",
              "\n",
              "      async function convertToInteractive(key) {\n",
              "        const element = document.querySelector('#df-70dcec33-c953-495e-a9b5-5018e8eed381');\n",
              "        const dataTable =\n",
              "          await google.colab.kernel.invokeFunction('convertToInteractive',\n",
              "                                                    [key], {});\n",
              "        if (!dataTable) return;\n",
              "\n",
              "        const docLinkHtml = 'Like what you see? Visit the ' +\n",
              "          '<a target=\"_blank\" href=https://colab.research.google.com/notebooks/data_table.ipynb>data table notebook</a>'\n",
              "          + ' to learn more about interactive tables.';\n",
              "        element.innerHTML = '';\n",
              "        dataTable['output_type'] = 'display_data';\n",
              "        await google.colab.output.renderOutput(dataTable, element);\n",
              "        const docLink = document.createElement('div');\n",
              "        docLink.innerHTML = docLinkHtml;\n",
              "        element.appendChild(docLink);\n",
              "      }\n",
              "    </script>\n",
              "  </div>\n",
              "\n",
              "\n",
              "<div id=\"df-a30e143a-0c5c-4b89-94b0-e5de633de639\">\n",
              "  <button class=\"colab-df-quickchart\" onclick=\"quickchart('df-a30e143a-0c5c-4b89-94b0-e5de633de639')\"\n",
              "            title=\"Suggest charts.\"\n",
              "            style=\"display:none;\">\n",
              "\n",
              "<svg xmlns=\"http://www.w3.org/2000/svg\" height=\"24px\"viewBox=\"0 0 24 24\"\n",
              "     width=\"24px\">\n",
              "    <g>\n",
              "        <path d=\"M19 3H5c-1.1 0-2 .9-2 2v14c0 1.1.9 2 2 2h14c1.1 0 2-.9 2-2V5c0-1.1-.9-2-2-2zM9 17H7v-7h2v7zm4 0h-2V7h2v10zm4 0h-2v-4h2v4z\"/>\n",
              "    </g>\n",
              "</svg>\n",
              "  </button>\n",
              "\n",
              "<style>\n",
              "  .colab-df-quickchart {\n",
              "    background-color: #E8F0FE;\n",
              "    border: none;\n",
              "    border-radius: 50%;\n",
              "    cursor: pointer;\n",
              "    display: none;\n",
              "    fill: #1967D2;\n",
              "    height: 32px;\n",
              "    padding: 0 0 0 0;\n",
              "    width: 32px;\n",
              "  }\n",
              "\n",
              "  .colab-df-quickchart:hover {\n",
              "    background-color: #E2EBFA;\n",
              "    box-shadow: 0px 1px 2px rgba(60, 64, 67, 0.3), 0px 1px 3px 1px rgba(60, 64, 67, 0.15);\n",
              "    fill: #174EA6;\n",
              "  }\n",
              "\n",
              "  [theme=dark] .colab-df-quickchart {\n",
              "    background-color: #3B4455;\n",
              "    fill: #D2E3FC;\n",
              "  }\n",
              "\n",
              "  [theme=dark] .colab-df-quickchart:hover {\n",
              "    background-color: #434B5C;\n",
              "    box-shadow: 0px 1px 3px 1px rgba(0, 0, 0, 0.15);\n",
              "    filter: drop-shadow(0px 1px 2px rgba(0, 0, 0, 0.3));\n",
              "    fill: #FFFFFF;\n",
              "  }\n",
              "</style>\n",
              "\n",
              "  <script>\n",
              "    async function quickchart(key) {\n",
              "      const charts = await google.colab.kernel.invokeFunction(\n",
              "          'suggestCharts', [key], {});\n",
              "    }\n",
              "    (() => {\n",
              "      let quickchartButtonEl =\n",
              "        document.querySelector('#df-a30e143a-0c5c-4b89-94b0-e5de633de639 button');\n",
              "      quickchartButtonEl.style.display =\n",
              "        google.colab.kernel.accessAllowed ? 'block' : 'none';\n",
              "    })();\n",
              "  </script>\n",
              "</div>\n",
              "    </div>\n",
              "  </div>\n"
            ]
          },
          "metadata": {},
          "execution_count": 69
        }
      ]
    },
    {
      "cell_type": "code",
      "source": [
        "test_data_set.head()"
      ],
      "metadata": {
        "id": "IsIlr5_pyRb6",
        "colab": {
          "base_uri": "https://localhost:8080/",
          "height": 255
        },
        "outputId": "e78f9253-589a-4cbb-df31-92266697d60b"
      },
      "execution_count": null,
      "outputs": [
        {
          "output_type": "execute_result",
          "data": {
            "text/plain": [
              "   feature_1  feature_2  feature_3  feature_4  feature_5  feature_6  \\\n",
              "0  -1.141206  -0.279703   1.019681   2.605902   0.460391  -1.167380   \n",
              "1  -1.796767  -0.056758   0.771219   4.414086  -1.229059   1.732098   \n",
              "2  -1.388968  -0.418296   0.186543   2.803852  -1.499095   1.395180   \n",
              "3   1.276844  -0.112323  -0.310796   2.251175   0.283670  -0.581020   \n",
              "4  -1.560815  -0.168494   1.249770   1.869219  -1.646049   0.132156   \n",
              "\n",
              "   feature_7  feature_8  feature_9  feature_10  ...  feature_251  feature_252  \\\n",
              "0  -1.149165  -1.205164   2.468966   -2.729526  ...    -0.868282    -0.429783   \n",
              "1   0.063241  -0.126311   1.322355   -3.461282  ...     0.227806     0.209200   \n",
              "2   0.739648   0.274060   1.228789   -3.081147  ...    -0.692679     0.449235   \n",
              "3  -0.024439  -0.306097   2.424685   -1.714863  ...    -0.690499    -1.077949   \n",
              "4  -0.664602   0.483327   1.728020   -2.258071  ...    -0.510597     1.213396   \n",
              "\n",
              "   feature_253  feature_254  feature_255  feature_256  label_1  label_2  \\\n",
              "0     0.438561    -1.625122     0.599944    -0.615575      NaN      NaN   \n",
              "1     2.200402    -1.701029     1.163999    -1.570136      NaN      NaN   \n",
              "2     1.377531    -1.854203    -0.040538    -2.164104      NaN      NaN   \n",
              "3     0.930102    -2.758352    -0.246738    -1.389013      NaN      NaN   \n",
              "4     2.497490    -1.597984    -0.163483    -1.735939      NaN      NaN   \n",
              "\n",
              "   label_3  label_4  \n",
              "0      NaN      NaN  \n",
              "1      NaN      NaN  \n",
              "2      NaN      NaN  \n",
              "3      NaN      NaN  \n",
              "4      NaN      NaN  \n",
              "\n",
              "[5 rows x 260 columns]"
            ],
            "text/html": [
              "\n",
              "  <div id=\"df-9847f03a-f841-4653-91e6-53dae774c3a0\" class=\"colab-df-container\">\n",
              "    <div>\n",
              "<style scoped>\n",
              "    .dataframe tbody tr th:only-of-type {\n",
              "        vertical-align: middle;\n",
              "    }\n",
              "\n",
              "    .dataframe tbody tr th {\n",
              "        vertical-align: top;\n",
              "    }\n",
              "\n",
              "    .dataframe thead th {\n",
              "        text-align: right;\n",
              "    }\n",
              "</style>\n",
              "<table border=\"1\" class=\"dataframe\">\n",
              "  <thead>\n",
              "    <tr style=\"text-align: right;\">\n",
              "      <th></th>\n",
              "      <th>feature_1</th>\n",
              "      <th>feature_2</th>\n",
              "      <th>feature_3</th>\n",
              "      <th>feature_4</th>\n",
              "      <th>feature_5</th>\n",
              "      <th>feature_6</th>\n",
              "      <th>feature_7</th>\n",
              "      <th>feature_8</th>\n",
              "      <th>feature_9</th>\n",
              "      <th>feature_10</th>\n",
              "      <th>...</th>\n",
              "      <th>feature_251</th>\n",
              "      <th>feature_252</th>\n",
              "      <th>feature_253</th>\n",
              "      <th>feature_254</th>\n",
              "      <th>feature_255</th>\n",
              "      <th>feature_256</th>\n",
              "      <th>label_1</th>\n",
              "      <th>label_2</th>\n",
              "      <th>label_3</th>\n",
              "      <th>label_4</th>\n",
              "    </tr>\n",
              "  </thead>\n",
              "  <tbody>\n",
              "    <tr>\n",
              "      <th>0</th>\n",
              "      <td>-1.141206</td>\n",
              "      <td>-0.279703</td>\n",
              "      <td>1.019681</td>\n",
              "      <td>2.605902</td>\n",
              "      <td>0.460391</td>\n",
              "      <td>-1.167380</td>\n",
              "      <td>-1.149165</td>\n",
              "      <td>-1.205164</td>\n",
              "      <td>2.468966</td>\n",
              "      <td>-2.729526</td>\n",
              "      <td>...</td>\n",
              "      <td>-0.868282</td>\n",
              "      <td>-0.429783</td>\n",
              "      <td>0.438561</td>\n",
              "      <td>-1.625122</td>\n",
              "      <td>0.599944</td>\n",
              "      <td>-0.615575</td>\n",
              "      <td>NaN</td>\n",
              "      <td>NaN</td>\n",
              "      <td>NaN</td>\n",
              "      <td>NaN</td>\n",
              "    </tr>\n",
              "    <tr>\n",
              "      <th>1</th>\n",
              "      <td>-1.796767</td>\n",
              "      <td>-0.056758</td>\n",
              "      <td>0.771219</td>\n",
              "      <td>4.414086</td>\n",
              "      <td>-1.229059</td>\n",
              "      <td>1.732098</td>\n",
              "      <td>0.063241</td>\n",
              "      <td>-0.126311</td>\n",
              "      <td>1.322355</td>\n",
              "      <td>-3.461282</td>\n",
              "      <td>...</td>\n",
              "      <td>0.227806</td>\n",
              "      <td>0.209200</td>\n",
              "      <td>2.200402</td>\n",
              "      <td>-1.701029</td>\n",
              "      <td>1.163999</td>\n",
              "      <td>-1.570136</td>\n",
              "      <td>NaN</td>\n",
              "      <td>NaN</td>\n",
              "      <td>NaN</td>\n",
              "      <td>NaN</td>\n",
              "    </tr>\n",
              "    <tr>\n",
              "      <th>2</th>\n",
              "      <td>-1.388968</td>\n",
              "      <td>-0.418296</td>\n",
              "      <td>0.186543</td>\n",
              "      <td>2.803852</td>\n",
              "      <td>-1.499095</td>\n",
              "      <td>1.395180</td>\n",
              "      <td>0.739648</td>\n",
              "      <td>0.274060</td>\n",
              "      <td>1.228789</td>\n",
              "      <td>-3.081147</td>\n",
              "      <td>...</td>\n",
              "      <td>-0.692679</td>\n",
              "      <td>0.449235</td>\n",
              "      <td>1.377531</td>\n",
              "      <td>-1.854203</td>\n",
              "      <td>-0.040538</td>\n",
              "      <td>-2.164104</td>\n",
              "      <td>NaN</td>\n",
              "      <td>NaN</td>\n",
              "      <td>NaN</td>\n",
              "      <td>NaN</td>\n",
              "    </tr>\n",
              "    <tr>\n",
              "      <th>3</th>\n",
              "      <td>1.276844</td>\n",
              "      <td>-0.112323</td>\n",
              "      <td>-0.310796</td>\n",
              "      <td>2.251175</td>\n",
              "      <td>0.283670</td>\n",
              "      <td>-0.581020</td>\n",
              "      <td>-0.024439</td>\n",
              "      <td>-0.306097</td>\n",
              "      <td>2.424685</td>\n",
              "      <td>-1.714863</td>\n",
              "      <td>...</td>\n",
              "      <td>-0.690499</td>\n",
              "      <td>-1.077949</td>\n",
              "      <td>0.930102</td>\n",
              "      <td>-2.758352</td>\n",
              "      <td>-0.246738</td>\n",
              "      <td>-1.389013</td>\n",
              "      <td>NaN</td>\n",
              "      <td>NaN</td>\n",
              "      <td>NaN</td>\n",
              "      <td>NaN</td>\n",
              "    </tr>\n",
              "    <tr>\n",
              "      <th>4</th>\n",
              "      <td>-1.560815</td>\n",
              "      <td>-0.168494</td>\n",
              "      <td>1.249770</td>\n",
              "      <td>1.869219</td>\n",
              "      <td>-1.646049</td>\n",
              "      <td>0.132156</td>\n",
              "      <td>-0.664602</td>\n",
              "      <td>0.483327</td>\n",
              "      <td>1.728020</td>\n",
              "      <td>-2.258071</td>\n",
              "      <td>...</td>\n",
              "      <td>-0.510597</td>\n",
              "      <td>1.213396</td>\n",
              "      <td>2.497490</td>\n",
              "      <td>-1.597984</td>\n",
              "      <td>-0.163483</td>\n",
              "      <td>-1.735939</td>\n",
              "      <td>NaN</td>\n",
              "      <td>NaN</td>\n",
              "      <td>NaN</td>\n",
              "      <td>NaN</td>\n",
              "    </tr>\n",
              "  </tbody>\n",
              "</table>\n",
              "<p>5 rows × 260 columns</p>\n",
              "</div>\n",
              "    <div class=\"colab-df-buttons\">\n",
              "\n",
              "  <div class=\"colab-df-container\">\n",
              "    <button class=\"colab-df-convert\" onclick=\"convertToInteractive('df-9847f03a-f841-4653-91e6-53dae774c3a0')\"\n",
              "            title=\"Convert this dataframe to an interactive table.\"\n",
              "            style=\"display:none;\">\n",
              "\n",
              "  <svg xmlns=\"http://www.w3.org/2000/svg\" height=\"24px\" viewBox=\"0 -960 960 960\">\n",
              "    <path d=\"M120-120v-720h720v720H120Zm60-500h600v-160H180v160Zm220 220h160v-160H400v160Zm0 220h160v-160H400v160ZM180-400h160v-160H180v160Zm440 0h160v-160H620v160ZM180-180h160v-160H180v160Zm440 0h160v-160H620v160Z\"/>\n",
              "  </svg>\n",
              "    </button>\n",
              "\n",
              "  <style>\n",
              "    .colab-df-container {\n",
              "      display:flex;\n",
              "      gap: 12px;\n",
              "    }\n",
              "\n",
              "    .colab-df-convert {\n",
              "      background-color: #E8F0FE;\n",
              "      border: none;\n",
              "      border-radius: 50%;\n",
              "      cursor: pointer;\n",
              "      display: none;\n",
              "      fill: #1967D2;\n",
              "      height: 32px;\n",
              "      padding: 0 0 0 0;\n",
              "      width: 32px;\n",
              "    }\n",
              "\n",
              "    .colab-df-convert:hover {\n",
              "      background-color: #E2EBFA;\n",
              "      box-shadow: 0px 1px 2px rgba(60, 64, 67, 0.3), 0px 1px 3px 1px rgba(60, 64, 67, 0.15);\n",
              "      fill: #174EA6;\n",
              "    }\n",
              "\n",
              "    .colab-df-buttons div {\n",
              "      margin-bottom: 4px;\n",
              "    }\n",
              "\n",
              "    [theme=dark] .colab-df-convert {\n",
              "      background-color: #3B4455;\n",
              "      fill: #D2E3FC;\n",
              "    }\n",
              "\n",
              "    [theme=dark] .colab-df-convert:hover {\n",
              "      background-color: #434B5C;\n",
              "      box-shadow: 0px 1px 3px 1px rgba(0, 0, 0, 0.15);\n",
              "      filter: drop-shadow(0px 1px 2px rgba(0, 0, 0, 0.3));\n",
              "      fill: #FFFFFF;\n",
              "    }\n",
              "  </style>\n",
              "\n",
              "    <script>\n",
              "      const buttonEl =\n",
              "        document.querySelector('#df-9847f03a-f841-4653-91e6-53dae774c3a0 button.colab-df-convert');\n",
              "      buttonEl.style.display =\n",
              "        google.colab.kernel.accessAllowed ? 'block' : 'none';\n",
              "\n",
              "      async function convertToInteractive(key) {\n",
              "        const element = document.querySelector('#df-9847f03a-f841-4653-91e6-53dae774c3a0');\n",
              "        const dataTable =\n",
              "          await google.colab.kernel.invokeFunction('convertToInteractive',\n",
              "                                                    [key], {});\n",
              "        if (!dataTable) return;\n",
              "\n",
              "        const docLinkHtml = 'Like what you see? Visit the ' +\n",
              "          '<a target=\"_blank\" href=https://colab.research.google.com/notebooks/data_table.ipynb>data table notebook</a>'\n",
              "          + ' to learn more about interactive tables.';\n",
              "        element.innerHTML = '';\n",
              "        dataTable['output_type'] = 'display_data';\n",
              "        await google.colab.output.renderOutput(dataTable, element);\n",
              "        const docLink = document.createElement('div');\n",
              "        docLink.innerHTML = docLinkHtml;\n",
              "        element.appendChild(docLink);\n",
              "      }\n",
              "    </script>\n",
              "  </div>\n",
              "\n",
              "\n",
              "<div id=\"df-19d132a8-b762-4884-bad4-c790e056542d\">\n",
              "  <button class=\"colab-df-quickchart\" onclick=\"quickchart('df-19d132a8-b762-4884-bad4-c790e056542d')\"\n",
              "            title=\"Suggest charts.\"\n",
              "            style=\"display:none;\">\n",
              "\n",
              "<svg xmlns=\"http://www.w3.org/2000/svg\" height=\"24px\"viewBox=\"0 0 24 24\"\n",
              "     width=\"24px\">\n",
              "    <g>\n",
              "        <path d=\"M19 3H5c-1.1 0-2 .9-2 2v14c0 1.1.9 2 2 2h14c1.1 0 2-.9 2-2V5c0-1.1-.9-2-2-2zM9 17H7v-7h2v7zm4 0h-2V7h2v10zm4 0h-2v-4h2v4z\"/>\n",
              "    </g>\n",
              "</svg>\n",
              "  </button>\n",
              "\n",
              "<style>\n",
              "  .colab-df-quickchart {\n",
              "    background-color: #E8F0FE;\n",
              "    border: none;\n",
              "    border-radius: 50%;\n",
              "    cursor: pointer;\n",
              "    display: none;\n",
              "    fill: #1967D2;\n",
              "    height: 32px;\n",
              "    padding: 0 0 0 0;\n",
              "    width: 32px;\n",
              "  }\n",
              "\n",
              "  .colab-df-quickchart:hover {\n",
              "    background-color: #E2EBFA;\n",
              "    box-shadow: 0px 1px 2px rgba(60, 64, 67, 0.3), 0px 1px 3px 1px rgba(60, 64, 67, 0.15);\n",
              "    fill: #174EA6;\n",
              "  }\n",
              "\n",
              "  [theme=dark] .colab-df-quickchart {\n",
              "    background-color: #3B4455;\n",
              "    fill: #D2E3FC;\n",
              "  }\n",
              "\n",
              "  [theme=dark] .colab-df-quickchart:hover {\n",
              "    background-color: #434B5C;\n",
              "    box-shadow: 0px 1px 3px 1px rgba(0, 0, 0, 0.15);\n",
              "    filter: drop-shadow(0px 1px 2px rgba(0, 0, 0, 0.3));\n",
              "    fill: #FFFFFF;\n",
              "  }\n",
              "</style>\n",
              "\n",
              "  <script>\n",
              "    async function quickchart(key) {\n",
              "      const charts = await google.colab.kernel.invokeFunction(\n",
              "          'suggestCharts', [key], {});\n",
              "    }\n",
              "    (() => {\n",
              "      let quickchartButtonEl =\n",
              "        document.querySelector('#df-19d132a8-b762-4884-bad4-c790e056542d button');\n",
              "      quickchartButtonEl.style.display =\n",
              "        google.colab.kernel.accessAllowed ? 'block' : 'none';\n",
              "    })();\n",
              "  </script>\n",
              "</div>\n",
              "    </div>\n",
              "  </div>\n"
            ]
          },
          "metadata": {},
          "execution_count": 70
        }
      ]
    },
    {
      "cell_type": "markdown",
      "source": [
        "Drop the columns of the labels that contains null values."
      ],
      "metadata": {
        "id": "MjY6W6wv7Igj"
      }
    },
    {
      "cell_type": "code",
      "source": [
        "#get the columns contain null values\n",
        "train_null_columns = train_data_set.columns[train_data_set.isnull().sum() > 0]\n",
        "\n",
        "#drop rows with null values in the labels for training dataset\n",
        "if (target_label in train_null_columns):\n",
        "  train_data_set = train_data_set.dropna(subset=[target_label], how='any')"
      ],
      "metadata": {
        "id": "tr0Vj7wPzSI5"
      },
      "execution_count": null,
      "outputs": []
    },
    {
      "cell_type": "markdown",
      "source": [
        "Fill the null values in the features with their means in the train, valid and test datasets."
      ],
      "metadata": {
        "id": "ZEiVOcV87Zhp"
      }
    },
    {
      "cell_type": "code",
      "source": [
        "#fill null values with the mean in train data set.\n",
        "train_data_set = train_data_set.fillna(train_data_set.mean())\n",
        "\n",
        "#fill null values with the mean in valid data set.\n",
        "valid_data_set = valid_data_set.fillna(valid_data_set.mean())\n",
        "\n",
        "#fill null values with the mean in test data set.\n",
        "test_data_set = test_data_set.fillna(test_data_set.mean())"
      ],
      "metadata": {
        "id": "Wfuy64D57iE2"
      },
      "execution_count": null,
      "outputs": []
    },
    {
      "cell_type": "markdown",
      "source": [
        "Separate features and labels in the train, valid and test datasets."
      ],
      "metadata": {
        "id": "au13SG7kKYu6"
      }
    },
    {
      "cell_type": "code",
      "source": [
        "#seperate features and labels in train dataset.\n",
        "train_features = train_data_set[FEATURES]\n",
        "train_target_label = train_data_set[target_label]\n",
        "\n",
        "#seperate features and labels in valid dataset.\n",
        "valid_features = valid_data_set[FEATURES]\n",
        "valid_target_label = valid_data_set[target_label]\n",
        "\n",
        "#seperate features and labels in test dataset.\n",
        "test_features = test_data_set[FEATURES]\n",
        "test_target_label = test_data_set[target_label]"
      ],
      "metadata": {
        "id": "TyfaJGKWKaHg"
      },
      "execution_count": null,
      "outputs": []
    },
    {
      "cell_type": "markdown",
      "source": [
        "# 1. Predicting Label 3 without Feature Engineering\n",
        "\n",
        "Standarize the features in the train, valid and test datasets."
      ],
      "metadata": {
        "id": "LO1jg4MeJ-Ws"
      }
    },
    {
      "cell_type": "code",
      "source": [
        "scaler = StandardScaler()\n",
        "\n",
        "#standardize the features in train dataset\n",
        "train_features = scaler.fit_transform(train_features)\n",
        "\n",
        "#standardize the features in valid dataset\n",
        "valid_features = scaler.transform(valid_features)\n",
        "\n",
        "#standardize the features in test dataset\n",
        "test_features = scaler.transform(test_features)"
      ],
      "metadata": {
        "id": "gGXeH1o-DQKy"
      },
      "execution_count": null,
      "outputs": []
    },
    {
      "cell_type": "markdown",
      "source": [
        "Train a model on the train dataset. Two classifires have been used and compared.\n",
        "\n",
        "1. Support Vector Classifier(SVC)\n",
        "2. Random Forest Classifier\n",
        "3. K-Nearest Neighbors(KNN)\n",
        "\n"
      ],
      "metadata": {
        "id": "a289Ye21LbR0"
      }
    },
    {
      "cell_type": "code",
      "source": [
        "#define a list of classification models\n",
        "classification_models = [\n",
        "    ('K Neighbors', KNeighborsClassifier()),\n",
        "    ('Random Forest', RandomForestClassifier()),\n",
        "    ('SVM', SVC(kernel='linear'))\n",
        "]\n",
        "\n",
        "for model_name, model in classification_models:\n",
        "\n",
        "  model.fit(train_features, train_target_label)\n",
        "\n",
        "  #predict on the train data\n",
        "  y_pred_train = model.predict(train_features)\n",
        "\n",
        "  #calculate metrics for classification evaluation on train data\n",
        "  accuracy = accuracy_score(train_target_label, y_pred_train)\n",
        "  precision = precision_score(train_target_label, y_pred_train, average='weighted', zero_division=1)\n",
        "  recall = recall_score(train_target_label, y_pred_train, average='weighted')\n",
        "\n",
        "  print(f\"Metrics for {model_name} on train data:\")\n",
        "  print(f\"Accuracy: {accuracy}\")\n",
        "  print(f\"Precision: {precision}\")\n",
        "  print(f\"Recall: {recall}\")\n",
        "  print(\"\\n\")\n",
        "\n",
        "  #predict on the validation data\n",
        "  y_pred_valid = model.predict(valid_features)\n",
        "\n",
        "  #calculate metrics for classification evaluation on valid data\n",
        "  accuracy = accuracy_score(valid_target_label, y_pred_valid)\n",
        "  precision = precision_score(valid_target_label, y_pred_valid, average='weighted', zero_division=1)\n",
        "  recall = recall_score(valid_target_label, y_pred_valid, average='weighted')\n",
        "\n",
        "  print(f\"Metrics for {model_name} on valid data:\")\n",
        "  print(f\"Accuracy: {accuracy}\")\n",
        "  print(f\"Precision: {precision}\")\n",
        "  print(f\"Recall: {recall}\")\n",
        "  print(\"\\n\")"
      ],
      "metadata": {
        "colab": {
          "base_uri": "https://localhost:8080/"
        },
        "id": "lt6OoRnvEAm9",
        "outputId": "a2c42872-cdd7-4699-f712-c496fa6650da"
      },
      "execution_count": null,
      "outputs": [
        {
          "output_type": "stream",
          "name": "stdout",
          "text": [
            "Metrics for K Neighbors on train data:\n",
            "Accuracy: 0.9997545582047686\n",
            "Precision: 0.9997545445005572\n",
            "Recall: 0.9997545582047686\n",
            "\n",
            "\n",
            "Metrics for K Neighbors on valid data:\n",
            "Accuracy: 0.9986666666666667\n",
            "Precision: 0.9986688560481665\n",
            "Recall: 0.9986666666666667\n",
            "\n",
            "\n",
            "Metrics for Random Forest on train data:\n",
            "Accuracy: 1.0\n",
            "Precision: 1.0\n",
            "Recall: 1.0\n",
            "\n",
            "\n",
            "Metrics for Random Forest on valid data:\n",
            "Accuracy: 0.9946666666666667\n",
            "Precision: 0.9947015250544663\n",
            "Recall: 0.9946666666666667\n",
            "\n",
            "\n",
            "Metrics for SVM on train data:\n",
            "Accuracy: 1.0\n",
            "Precision: 1.0\n",
            "Recall: 1.0\n",
            "\n",
            "\n",
            "Metrics for SVM on valid data:\n",
            "Accuracy: 0.9986666666666667\n",
            "Precision: 0.9986759906759908\n",
            "Recall: 0.9986666666666667\n",
            "\n",
            "\n"
          ]
        }
      ]
    },
    {
      "cell_type": "markdown",
      "source": [
        "Predict on the test data using the best model."
      ],
      "metadata": {
        "id": "E_RDUAG-EMqk"
      }
    },
    {
      "cell_type": "code",
      "source": [
        "#predict on the test data\n",
        "best_model = SVC(kernel='linear')\n",
        "best_model.fit(train_features, train_target_label)\n",
        "y_pred_test_before = best_model.predict(test_features)"
      ],
      "metadata": {
        "id": "MuQU89z5MxdH"
      },
      "execution_count": null,
      "outputs": []
    },
    {
      "cell_type": "markdown",
      "source": [
        "# 2. Predicting Label 3 with Feature Engineering"
      ],
      "metadata": {
        "id": "0c6nNMqjOfW8"
      }
    },
    {
      "cell_type": "markdown",
      "source": [
        "Use feature selection based on correlation matrix and feature extraction based on PCA(Principal Component Analysis)."
      ],
      "metadata": {
        "id": "ZrdSXbRaahu_"
      }
    },
    {
      "cell_type": "markdown",
      "source": [
        "### Feature Selection\n",
        "\n",
        "Visualize the distribution of the target label in train dataset."
      ],
      "metadata": {
        "id": "8eCf6Mdpa0aF"
      }
    },
    {
      "cell_type": "code",
      "source": [
        "#plotting the distribution of target label in train dataset\n",
        "labels, counts = np.unique(train_target_label, return_counts=True)\n",
        "plt.figure(figsize=(12, 6))\n",
        "plt.bar(labels, counts)\n",
        "plt.xlabel('Target Label')\n",
        "plt.ylabel('Frequency')\n",
        "plt.title('Distribution of the Target Label')\n",
        "plt.show()"
      ],
      "metadata": {
        "colab": {
          "base_uri": "https://localhost:8080/",
          "height": 564
        },
        "id": "F5P90hRcOo8Z",
        "outputId": "963ea812-883f-4fa1-d1d2-ade966f392ab"
      },
      "execution_count": null,
      "outputs": [
        {
          "output_type": "display_data",
          "data": {
            "text/plain": [
              "<Figure size 1200x600 with 1 Axes>"
            ],
            "image/png": "[encoded data removed]"
          },
          "metadata": {}
        }
      ]
    },
    {
      "cell_type": "markdown",
      "source": [
        "Calculate the correlation matrix of the features in the train dataset."
      ],
      "metadata": {
        "id": "t35pFbl6bmOd"
      }
    },
    {
      "cell_type": "code",
      "source": [
        "#calculate the correlation matrix\n",
        "corr_matrix = pd.DataFrame(train_features).corr()\n",
        "\n",
        "#set the threshold for correlation\n",
        "corr_threshold = 0.9\n",
        "\n",
        "#get the filtered correlation matrix and plot it\n",
        "filtered_corr_matrix = corr_matrix[(corr_matrix > corr_threshold) | (corr_matrix < -corr_threshold)]\n",
        "plt.figure(figsize=(10, 8))\n",
        "sns.heatmap(filtered_corr_matrix, cmap='coolwarm', center=0, annot=True)\n",
        "plt.title(\"Correlation Matrix\")\n",
        "plt.show()"
      ],
      "metadata": {
        "colab": {
          "base_uri": "https://localhost:8080/",
          "height": 711
        },
        "id": "gGLq-a_OO80i",
        "outputId": "82494238-8cd9-4557-eb93-8884ba341db3"
      },
      "execution_count": null,
      "outputs": [
        {
          "output_type": "display_data",
          "data": {
            "text/plain": [
              "<Figure size 1000x800 with 2 Axes>"
            ],
            "image/png": "[encoded data removed]"
          },
          "metadata": {}
        }
      ]
    },
    {
      "cell_type": "markdown",
      "source": [
        "Identify the features that are most correlated with each other using the traning dataset. Threshold of 0.9 has been used to find the most correlated features."
      ],
      "metadata": {
        "id": "UxChBmOEb5Yo"
      }
    },
    {
      "cell_type": "code",
      "source": [
        "most_correlated_features = set()\n",
        "\n",
        "#get most correlated features\n",
        "for i in range(len(corr_matrix.columns)):\n",
        "    for j in range(i):\n",
        "        if abs(corr_matrix.iloc[i, j]) > corr_threshold:\n",
        "            col_name = corr_matrix.columns[i]\n",
        "            most_correlated_features.add(col_name)"
      ],
      "metadata": {
        "id": "A5ugk43hTqDc"
      },
      "execution_count": null,
      "outputs": []
    },
    {
      "cell_type": "markdown",
      "source": [
        "Remove the most correlated features from all the datasets."
      ],
      "metadata": {
        "id": "fL_x4pkfcHxw"
      }
    },
    {
      "cell_type": "code",
      "source": [
        "#remove most correlated features\n",
        "train_features = pd.DataFrame(train_features).drop(columns=most_correlated_features)\n",
        "valid_features = pd.DataFrame(valid_features).drop(columns=most_correlated_features)\n",
        "test_features = pd.DataFrame(test_features).drop(columns=most_correlated_features)"
      ],
      "metadata": {
        "id": "1KcOqrHlVFp_"
      },
      "execution_count": null,
      "outputs": []
    },
    {
      "cell_type": "markdown",
      "source": [
        "Print the new shapes of all the datasets after removing the most correlated features."
      ],
      "metadata": {
        "id": "EDlbOR6_cf4l"
      }
    },
    {
      "cell_type": "code",
      "source": [
        "#print the new feature count in train dataset\n",
        "print(\"New Features in Train Dataset: {}\".format(train_features.shape))\n",
        "\n",
        "#print the new feature count in valid dataset\n",
        "print(\"New Features in Valid Dataset: {}\".format(valid_features.shape))\n",
        "\n",
        "#print the new feature count in test dataset\n",
        "print(\"New Features in Test Dataset: {}\".format(test_features.shape))"
      ],
      "metadata": {
        "colab": {
          "base_uri": "https://localhost:8080/"
        },
        "id": "NSEqv3xpWTIo",
        "outputId": "82e06ea9-75c3-45d5-e0d4-4d03b4c9f597"
      },
      "execution_count": null,
      "outputs": [
        {
          "output_type": "stream",
          "name": "stdout",
          "text": [
            "New Features in Train Dataset: (28520, 256)\n",
            "New Features in Valid Dataset: (750, 256)\n",
            "New Features in Test Dataset: (750, 256)\n"
          ]
        }
      ]
    },
    {
      "cell_type": "markdown",
      "source": [
        "Identify the features that are most correlated with the target label using the traning dataset. Threshold of 0.05 has been used to find the most correlated features."
      ],
      "metadata": {
        "id": "-aJwIn2EdPSe"
      }
    },
    {
      "cell_type": "code",
      "source": [
        "#calculate the correlation matrix between features and target label in train dataset\n",
        "corr_with_target = pd.DataFrame(train_features).corrwith(train_target_label)\n",
        "\n",
        "#set the correlation threshold\n",
        "corr_threshold = 0.05\n",
        "\n",
        "#select features that meet the correlation threshold\n",
        "most_correlated_features_with_target = corr_with_target[corr_with_target.abs() > corr_threshold]"
      ],
      "metadata": {
        "id": "Axolz_WTWbSb"
      },
      "execution_count": null,
      "outputs": []
    },
    {
      "cell_type": "markdown",
      "source": [
        "Extract the  most correlated features with the target label from all datasets."
      ],
      "metadata": {
        "id": "FTLkyWOddwWW"
      }
    },
    {
      "cell_type": "code",
      "source": [
        "#extract the  most correlated features with the target label in train dataset\n",
        "train_features = train_features[most_correlated_features_with_target.index]\n",
        "\n",
        "#extract the  most correlated features with the target label in valid dataset\n",
        "valid_features = valid_features[most_correlated_features_with_target.index]\n",
        "\n",
        "#extract the  most correlated features with the target label in test dataset\n",
        "test_features = test_features[most_correlated_features_with_target.index]"
      ],
      "metadata": {
        "id": "tEwX7ssTX0CD"
      },
      "execution_count": null,
      "outputs": []
    },
    {
      "cell_type": "markdown",
      "source": [
        "Print the new shapes of all the datasets after extracting the most correlated features."
      ],
      "metadata": {
        "id": "nOJNaUelec2_"
      }
    },
    {
      "cell_type": "code",
      "source": [
        "#print the new feature count in train dataset\n",
        "print(\"New Features in Train Dataset: {}\".format(train_features.shape))\n",
        "\n",
        "#print the new feature count in valid dataset\n",
        "print(\"New Features in Valid Dataset: {}\".format(valid_features.shape))\n",
        "\n",
        "#print the new feature count in test dataset\n",
        "print(\"New Features in Test Dataset: {}\".format(test_features.shape))"
      ],
      "metadata": {
        "colab": {
          "base_uri": "https://localhost:8080/"
        },
        "id": "5Xo8nlzaX4AI",
        "outputId": "e277de8b-2572-401f-ffbc-1c1238f7991d"
      },
      "execution_count": null,
      "outputs": [
        {
          "output_type": "stream",
          "name": "stdout",
          "text": [
            "New Features in Train Dataset: (28520, 206)\n",
            "New Features in Valid Dataset: (750, 206)\n",
            "New Features in Test Dataset: (750, 206)\n"
          ]
        }
      ]
    },
    {
      "cell_type": "markdown",
      "source": [
        "Standarize the features in the train, valid and test datasets."
      ],
      "metadata": {
        "id": "FKRIKq6melE5"
      }
    },
    {
      "cell_type": "code",
      "source": [
        "scaler = StandardScaler()\n",
        "\n",
        "#standardize the features in train dataset\n",
        "standardized_train_features = scaler.fit_transform(train_features)\n",
        "\n",
        "#standardize the features in valid dataset\n",
        "standardized_valid_features = scaler.transform(valid_features)\n",
        "\n",
        "#standardize the features in test dataset\n",
        "standardized_test_features = scaler.transform(test_features)"
      ],
      "metadata": {
        "id": "VYxMM_lGYEAU"
      },
      "execution_count": null,
      "outputs": []
    },
    {
      "cell_type": "markdown",
      "source": [
        "### Feature Extraction"
      ],
      "metadata": {
        "id": "Eh7svVZWerwC"
      }
    },
    {
      "cell_type": "markdown",
      "source": [
        "Extract can combine the features that are highly significant in predicting the label using PCA.\n",
        "\n",
        "Extract the features that can explain the variance of the label to 99%\n",
        "\n",
        "Display the resulting explained variances of each principal component"
      ],
      "metadata": {
        "id": "fNN6C6hHe2hn"
      }
    },
    {
      "cell_type": "code",
      "source": [
        "variance_threshold = 0.99\n",
        "\n",
        "#apply PCA with the determined number of components\n",
        "pca = PCA(n_components=variance_threshold, svd_solver='full')\n",
        "\n",
        "pca_train = pca.fit_transform(standardized_train_features)\n",
        "pca_valid = pca.transform(standardized_valid_features)\n",
        "pca_test = pca.transform(standardized_test_features)\n",
        "\n",
        "#explained variance ratio after dimensionality reduction\n",
        "explained_variance_ratio_reduced = pca.explained_variance_ratio_\n",
        "\n",
        "#print the new feature count in train dataset\n",
        "print(\"New Features in Train Dataset: {}\".format(pca_train.shape))\n",
        "#print the new feature count in valid dataset\n",
        "print(\"New Features in Valid Dataset: {}\".format(pca_valid.shape))\n",
        "#print the new feature count in test dataset\n",
        "print(\"New Features in Test Dataset: {}\".format(pca_test.shape))"
      ],
      "metadata": {
        "colab": {
          "base_uri": "https://localhost:8080/"
        },
        "id": "zZNdNQMwYTSw",
        "outputId": "b877f66b-0131-4c55-e750-3ad406ac9fef"
      },
      "execution_count": null,
      "outputs": [
        {
          "output_type": "stream",
          "name": "stdout",
          "text": [
            "New Features in Train Dataset: (28520, 100)\n",
            "New Features in Valid Dataset: (750, 100)\n",
            "New Features in Test Dataset: (750, 100)\n"
          ]
        }
      ]
    },
    {
      "cell_type": "markdown",
      "source": [
        "Used the trained model using the extracted features and preddict and get the evaluation metrics. Here also SVC and KNN classifiers have been used and compared."
      ],
      "metadata": {
        "id": "ygH8GLr1gOSr"
      }
    },
    {
      "cell_type": "code",
      "source": [
        "#define a list of classification models\n",
        "classification_models = [\n",
        "    ('K Neighbors', KNeighborsClassifier()),\n",
        "    ('Random Forest', RandomForestClassifier()),\n",
        "    ('SVM', SVC())\n",
        "]\n",
        "\n",
        "#number of features used in PCA\n",
        "num_of_features = pca_train.shape[1]\n",
        "print(f\"Number of features: {num_of_features}\\n\")\n",
        "\n",
        "for model_name, model in classification_models:\n",
        "\n",
        "  model.fit(pca_train, train_target_label)\n",
        "\n",
        "  #predict on the train data\n",
        "  y_pred_train = model.predict(pca_train)\n",
        "\n",
        "  #calculate metrics for classification evaluation on train data\n",
        "  accuracy = accuracy_score(train_target_label, y_pred_train)\n",
        "  precision = precision_score(train_target_label, y_pred_train, average='weighted', zero_division=1)\n",
        "  recall = recall_score(train_target_label, y_pred_train, average='weighted')\n",
        "\n",
        "  print(f\"Metrics for {model_name} on train data:\")\n",
        "  print(f\"Accuracy: {accuracy}\")\n",
        "  print(f\"Precision: {precision}\")\n",
        "  print(f\"Recall: {recall}\")\n",
        "  print(\"\\n\")\n",
        "\n",
        "  #predict on the validation data\n",
        "  y_pred_valid = model.predict(pca_valid)\n",
        "\n",
        "  #calculate metrics for classification evaluation on validation data\n",
        "  accuracy = accuracy_score(valid_target_label, y_pred_valid)\n",
        "  precision = precision_score(valid_target_label, y_pred_valid, average='weighted', zero_division=1)\n",
        "  recall = recall_score(valid_target_label, y_pred_valid, average='weighted')\n",
        "\n",
        "  print(f\"Metrics for {model_name} on validation data:\")\n",
        "  print(f\"Accuracy: {accuracy}\")\n",
        "  print(f\"Precision: {precision}\")\n",
        "  print(f\"Recall: {recall}\")\n",
        "  print(\"\\n\")\n"
      ],
      "metadata": {
        "colab": {
          "base_uri": "https://localhost:8080/"
        },
        "id": "4p51o92-Y9jm",
        "outputId": "bac93071-801c-4d0b-8e4a-0aab3acd86eb"
      },
      "execution_count": null,
      "outputs": [
        {
          "output_type": "stream",
          "name": "stdout",
          "text": [
            "Number of features: 100\n",
            "\n",
            "Metrics for K Neighbors on train data:\n",
            "Accuracy: 0.9998246844319776\n",
            "Precision: 0.9998247228766879\n",
            "Recall: 0.9998246844319776\n",
            "\n",
            "\n",
            "Metrics for K Neighbors on validation data:\n",
            "Accuracy: 0.9986666666666667\n",
            "Precision: 0.9986688560481665\n",
            "Recall: 0.9986666666666667\n",
            "\n",
            "\n",
            "Metrics for Random Forest on train data:\n",
            "Accuracy: 1.0\n",
            "Precision: 1.0\n",
            "Recall: 1.0\n",
            "\n",
            "\n",
            "Metrics for Random Forest on validation data:\n",
            "Accuracy: 0.996\n",
            "Precision: 0.9959949224982241\n",
            "Recall: 0.996\n",
            "\n",
            "\n",
            "Metrics for SVM on train data:\n",
            "Accuracy: 0.9999649368863955\n",
            "Precision: 0.9999649430109568\n",
            "Recall: 0.9999649368863955\n",
            "\n",
            "\n",
            "Metrics for SVM on validation data:\n",
            "Accuracy: 1.0\n",
            "Precision: 1.0\n",
            "Recall: 1.0\n",
            "\n",
            "\n"
          ]
        }
      ]
    },
    {
      "cell_type": "markdown",
      "source": [
        "Predict on the test data using the best model.\n",
        "\n",
        "According to the results SVC is classifier gives better predictions.Therefore predictions on the test data is done by using SVC classifier."
      ],
      "metadata": {
        "id": "2jeKMunZhzzB"
      }
    },
    {
      "cell_type": "code",
      "source": [
        "#predict on the test data\n",
        "best_model = SVC(kernel='linear')\n",
        "best_model.fit(pca_train, train_target_label)\n",
        "y_pred_test_after = best_model.predict(pca_test)"
      ],
      "metadata": {
        "id": "VIK-apRPh0am"
      },
      "execution_count": null,
      "outputs": []
    },
    {
      "cell_type": "markdown",
      "source": [
        "#Create the CSV file."
      ],
      "metadata": {
        "id": "N0YFyXH_im28"
      }
    },
    {
      "cell_type": "markdown",
      "source": [
        "Define method to create the csv file."
      ],
      "metadata": {
        "id": "qtFjP4KpikOM"
      }
    },
    {
      "cell_type": "code",
      "source": [
        "# define method to create the dataframe and save it as a csv file\n",
        "def create_csv(features, pred_before_fe, pred_after_fe, destination):\n",
        "  feature_count = features.shape[1]\n",
        "\n",
        "  header_row = [f\"new_feature_{i}\" for i in range(1,feature_count+1)]\n",
        "\n",
        "  df = pd.DataFrame(features, columns  = header_row)\n",
        "\n",
        "  df.insert(loc=0, column='Predicted labels before feature engineering', value=pred_before_fe)\n",
        "  df.insert(loc=1, column='Predicted labels after feature engineering', value=pred_after_fe)\n",
        "  df.insert(loc=2, column='No of new features', value=np.repeat(feature_count, features.shape[0]))\n",
        "\n",
        "  df.to_csv(destination, index=False)"
      ],
      "metadata": {
        "id": "_VnWVl0lZN-V"
      },
      "execution_count": null,
      "outputs": []
    },
    {
      "cell_type": "markdown",
      "source": [
        "Save the csv file."
      ],
      "metadata": {
        "id": "4UqwSi8TirNN"
      }
    },
    {
      "cell_type": "code",
      "source": [
        "destination = '/content/drive/MyDrive/Colab Notebooks/Machine Learning/Lab1/190583V_label3.csv'\n",
        "\n",
        "# create the csv output file\n",
        "create_csv(pca_test, y_pred_test_before, y_pred_test_after, destination)"
      ],
      "metadata": {
        "id": "pxFmK735ZQtQ"
      },
      "execution_count": null,
      "outputs": []
    }
  ]
}